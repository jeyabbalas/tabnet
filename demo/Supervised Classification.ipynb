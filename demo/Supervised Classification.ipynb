{
 "cells": [
  {
   "cell_type": "markdown",
   "id": "5329dd66",
   "metadata": {},
   "source": [
    "# Supervised Classification using TabNet\n",
    "\n",
    "In this notebook, we will see how to use the TabNet layers from this repository to build a supervised learning classifier in TF Keras. As an example, we will analyze the [Adult Census Income dataset](https://archive.ics.uci.edu/ml/datasets/adult). The goal here is to predict the income bracket (earns <=\\$50K or >50K) of an individual based on some descriptive features (e.g., age, sex, race, marital status, occupation, capital gain/loss, etc.)."
   ]
  },
  {
   "cell_type": "code",
   "execution_count": 1,
   "id": "55d47288",
   "metadata": {},
   "outputs": [],
   "source": [
    "import pandas as pd\n",
    "import tensorflow as tf"
   ]
  },
  {
   "cell_type": "markdown",
   "id": "342864eb",
   "metadata": {},
   "source": [
    "## Loading and preparing data\n",
    "We load the Adult Census Income dataset from the UCI data repository. We impute the missing values with the mode value. We encode the labels into binary. Finally, we convert the data into [TF Dataset format](https://www.tensorflow.org/api_docs/python/tf/data/Dataset)."
   ]
  },
  {
   "cell_type": "code",
   "execution_count": 2,
   "id": "1e67332d",
   "metadata": {},
   "outputs": [],
   "source": [
    "train_data_url = \"https://archive.ics.uci.edu/ml/machine-learning-databases/adult/adult.data\"\n",
    "test_data_url = \"https://archive.ics.uci.edu/ml/machine-learning-databases/adult/adult.test\"\n",
    "feature_names = [\"age\", \"workclass\", \"fnlwgt\", \"education\", \"education-num\", \n",
    "                 \"marital-status\", \"occupation\", \"relationship\", \"race\", \"sex\",\n",
    "                 \"capital-gain\", \"capital-loss\", \"hours-per-week\", \n",
    "                 \"native-country\", \"income\"]"
   ]
  },
  {
   "cell_type": "code",
   "execution_count": 3,
   "id": "69a66e20",
   "metadata": {},
   "outputs": [],
   "source": [
    "train_data = pd.read_csv(train_data_url, \n",
    "                         sep=\",\", \n",
    "                         skipinitialspace=True, \n",
    "                         na_values=\"?\", \n",
    "                         names=feature_names)\n",
    "\n",
    "test_data = pd.read_csv(test_data_url, \n",
    "                        sep=\",\", \n",
    "                        skiprows=1, \n",
    "                        skipinitialspace=True, \n",
    "                        na_values=\"?\", \n",
    "                        names=feature_names)"
   ]
  },
  {
   "cell_type": "code",
   "execution_count": 4,
   "id": "3cca7b38",
   "metadata": {},
   "outputs": [
    {
     "name": "stdout",
     "output_type": "stream",
     "text": [
      "Train shape: (32561, 15)\n",
      "Test shape: (16281, 15)\n"
     ]
    }
   ],
   "source": [
    "print(f\"Train shape: {train_data.shape}\")\n",
    "print(f\"Test shape: {test_data.shape}\")"
   ]
  },
  {
   "cell_type": "code",
   "execution_count": 5,
   "id": "08ca06d7",
   "metadata": {},
   "outputs": [
    {
     "data": {
      "text/html": [
       "<div>\n",
       "<style scoped>\n",
       "    .dataframe tbody tr th:only-of-type {\n",
       "        vertical-align: middle;\n",
       "    }\n",
       "\n",
       "    .dataframe tbody tr th {\n",
       "        vertical-align: top;\n",
       "    }\n",
       "\n",
       "    .dataframe thead th {\n",
       "        text-align: right;\n",
       "    }\n",
       "</style>\n",
       "<table border=\"1\" class=\"dataframe\">\n",
       "  <thead>\n",
       "    <tr style=\"text-align: right;\">\n",
       "      <th></th>\n",
       "      <th>age</th>\n",
       "      <th>workclass</th>\n",
       "      <th>fnlwgt</th>\n",
       "      <th>education</th>\n",
       "      <th>education-num</th>\n",
       "      <th>marital-status</th>\n",
       "      <th>occupation</th>\n",
       "      <th>relationship</th>\n",
       "      <th>race</th>\n",
       "      <th>sex</th>\n",
       "      <th>capital-gain</th>\n",
       "      <th>capital-loss</th>\n",
       "      <th>hours-per-week</th>\n",
       "      <th>native-country</th>\n",
       "      <th>income</th>\n",
       "    </tr>\n",
       "  </thead>\n",
       "  <tbody>\n",
       "    <tr>\n",
       "      <th>0</th>\n",
       "      <td>39</td>\n",
       "      <td>State-gov</td>\n",
       "      <td>77516</td>\n",
       "      <td>Bachelors</td>\n",
       "      <td>13</td>\n",
       "      <td>Never-married</td>\n",
       "      <td>Adm-clerical</td>\n",
       "      <td>Not-in-family</td>\n",
       "      <td>White</td>\n",
       "      <td>Male</td>\n",
       "      <td>2174</td>\n",
       "      <td>0</td>\n",
       "      <td>40</td>\n",
       "      <td>United-States</td>\n",
       "      <td>&lt;=50K</td>\n",
       "    </tr>\n",
       "    <tr>\n",
       "      <th>1</th>\n",
       "      <td>50</td>\n",
       "      <td>Self-emp-not-inc</td>\n",
       "      <td>83311</td>\n",
       "      <td>Bachelors</td>\n",
       "      <td>13</td>\n",
       "      <td>Married-civ-spouse</td>\n",
       "      <td>Exec-managerial</td>\n",
       "      <td>Husband</td>\n",
       "      <td>White</td>\n",
       "      <td>Male</td>\n",
       "      <td>0</td>\n",
       "      <td>0</td>\n",
       "      <td>13</td>\n",
       "      <td>United-States</td>\n",
       "      <td>&lt;=50K</td>\n",
       "    </tr>\n",
       "    <tr>\n",
       "      <th>2</th>\n",
       "      <td>38</td>\n",
       "      <td>Private</td>\n",
       "      <td>215646</td>\n",
       "      <td>HS-grad</td>\n",
       "      <td>9</td>\n",
       "      <td>Divorced</td>\n",
       "      <td>Handlers-cleaners</td>\n",
       "      <td>Not-in-family</td>\n",
       "      <td>White</td>\n",
       "      <td>Male</td>\n",
       "      <td>0</td>\n",
       "      <td>0</td>\n",
       "      <td>40</td>\n",
       "      <td>United-States</td>\n",
       "      <td>&lt;=50K</td>\n",
       "    </tr>\n",
       "    <tr>\n",
       "      <th>3</th>\n",
       "      <td>53</td>\n",
       "      <td>Private</td>\n",
       "      <td>234721</td>\n",
       "      <td>11th</td>\n",
       "      <td>7</td>\n",
       "      <td>Married-civ-spouse</td>\n",
       "      <td>Handlers-cleaners</td>\n",
       "      <td>Husband</td>\n",
       "      <td>Black</td>\n",
       "      <td>Male</td>\n",
       "      <td>0</td>\n",
       "      <td>0</td>\n",
       "      <td>40</td>\n",
       "      <td>United-States</td>\n",
       "      <td>&lt;=50K</td>\n",
       "    </tr>\n",
       "    <tr>\n",
       "      <th>4</th>\n",
       "      <td>28</td>\n",
       "      <td>Private</td>\n",
       "      <td>338409</td>\n",
       "      <td>Bachelors</td>\n",
       "      <td>13</td>\n",
       "      <td>Married-civ-spouse</td>\n",
       "      <td>Prof-specialty</td>\n",
       "      <td>Wife</td>\n",
       "      <td>Black</td>\n",
       "      <td>Female</td>\n",
       "      <td>0</td>\n",
       "      <td>0</td>\n",
       "      <td>40</td>\n",
       "      <td>Cuba</td>\n",
       "      <td>&lt;=50K</td>\n",
       "    </tr>\n",
       "  </tbody>\n",
       "</table>\n",
       "</div>"
      ],
      "text/plain": [
       "   age         workclass  fnlwgt  education  education-num  \\\n",
       "0   39         State-gov   77516  Bachelors             13   \n",
       "1   50  Self-emp-not-inc   83311  Bachelors             13   \n",
       "2   38           Private  215646    HS-grad              9   \n",
       "3   53           Private  234721       11th              7   \n",
       "4   28           Private  338409  Bachelors             13   \n",
       "\n",
       "       marital-status         occupation   relationship   race     sex  \\\n",
       "0       Never-married       Adm-clerical  Not-in-family  White    Male   \n",
       "1  Married-civ-spouse    Exec-managerial        Husband  White    Male   \n",
       "2            Divorced  Handlers-cleaners  Not-in-family  White    Male   \n",
       "3  Married-civ-spouse  Handlers-cleaners        Husband  Black    Male   \n",
       "4  Married-civ-spouse     Prof-specialty           Wife  Black  Female   \n",
       "\n",
       "   capital-gain  capital-loss  hours-per-week native-country income  \n",
       "0          2174             0              40  United-States  <=50K  \n",
       "1             0             0              13  United-States  <=50K  \n",
       "2             0             0              40  United-States  <=50K  \n",
       "3             0             0              40  United-States  <=50K  \n",
       "4             0             0              40           Cuba  <=50K  "
      ]
     },
     "execution_count": 5,
     "metadata": {},
     "output_type": "execute_result"
    }
   ],
   "source": [
    "train_data.head()"
   ]
  },
  {
   "cell_type": "code",
   "execution_count": 6,
   "id": "88c32294",
   "metadata": {},
   "outputs": [
    {
     "name": "stdout",
     "output_type": "stream",
     "text": [
      "Train: missing values\n",
      "age                  0\n",
      "workclass         1836\n",
      "fnlwgt               0\n",
      "education            0\n",
      "education-num        0\n",
      "marital-status       0\n",
      "occupation        1843\n",
      "relationship         0\n",
      "race                 0\n",
      "sex                  0\n",
      "capital-gain         0\n",
      "capital-loss         0\n",
      "hours-per-week       0\n",
      "native-country     583\n",
      "income               0\n",
      "dtype: int64\n",
      "\n",
      "Test: missing values\n",
      "age                 0\n",
      "workclass         963\n",
      "fnlwgt              0\n",
      "education           0\n",
      "education-num       0\n",
      "marital-status      0\n",
      "occupation        966\n",
      "relationship        0\n",
      "race                0\n",
      "sex                 0\n",
      "capital-gain        0\n",
      "capital-loss        0\n",
      "hours-per-week      0\n",
      "native-country    274\n",
      "income              0\n",
      "dtype: int64\n"
     ]
    }
   ],
   "source": [
    "print(\"Train: missing values\")\n",
    "print(train_data.isnull().sum())\n",
    "print(\"\\nTest: missing values\")\n",
    "print(test_data.isnull().sum())"
   ]
  },
  {
   "cell_type": "code",
   "execution_count": 7,
   "id": "6e0cb231",
   "metadata": {},
   "outputs": [],
   "source": [
    "def impute_missing_with_mode(dataframe, columns):\n",
    "    for col in columns:\n",
    "        dataframe[col].fillna(dataframe[col].mode()[0], inplace=True)"
   ]
  },
  {
   "cell_type": "code",
   "execution_count": 8,
   "id": "c99e0120",
   "metadata": {},
   "outputs": [],
   "source": [
    "columns_with_missing = ['workclass', 'occupation', 'native-country']\n",
    "\n",
    "impute_missing_with_mode(train_data, columns_with_missing)\n",
    "impute_missing_with_mode(test_data, columns_with_missing)"
   ]
  },
  {
   "cell_type": "code",
   "execution_count": 9,
   "id": "0aa9bccf",
   "metadata": {},
   "outputs": [
    {
     "name": "stdout",
     "output_type": "stream",
     "text": [
      "Train: missing values\n",
      "age               0\n",
      "workclass         0\n",
      "fnlwgt            0\n",
      "education         0\n",
      "education-num     0\n",
      "marital-status    0\n",
      "occupation        0\n",
      "relationship      0\n",
      "race              0\n",
      "sex               0\n",
      "capital-gain      0\n",
      "capital-loss      0\n",
      "hours-per-week    0\n",
      "native-country    0\n",
      "income            0\n",
      "dtype: int64\n",
      "\n",
      "Test: missing values\n",
      "age               0\n",
      "workclass         0\n",
      "fnlwgt            0\n",
      "education         0\n",
      "education-num     0\n",
      "marital-status    0\n",
      "occupation        0\n",
      "relationship      0\n",
      "race              0\n",
      "sex               0\n",
      "capital-gain      0\n",
      "capital-loss      0\n",
      "hours-per-week    0\n",
      "native-country    0\n",
      "income            0\n",
      "dtype: int64\n"
     ]
    }
   ],
   "source": [
    "print(\"Train: missing values\")\n",
    "print(train_data.isnull().sum())\n",
    "print(\"\\nTest: missing values\")\n",
    "print(test_data.isnull().sum())"
   ]
  },
  {
   "cell_type": "code",
   "execution_count": 10,
   "id": "57d2eb4b",
   "metadata": {},
   "outputs": [
    {
     "data": {
      "text/plain": [
       "age                int64\n",
       "workclass         object\n",
       "fnlwgt             int64\n",
       "education         object\n",
       "education-num      int64\n",
       "marital-status    object\n",
       "occupation        object\n",
       "relationship      object\n",
       "race              object\n",
       "sex               object\n",
       "capital-gain       int64\n",
       "capital-loss       int64\n",
       "hours-per-week     int64\n",
       "native-country    object\n",
       "income            object\n",
       "dtype: object"
      ]
     },
     "execution_count": 10,
     "metadata": {},
     "output_type": "execute_result"
    }
   ],
   "source": [
    "train_data.dtypes"
   ]
  },
  {
   "cell_type": "code",
   "execution_count": 11,
   "id": "9939ae8d",
   "metadata": {},
   "outputs": [],
   "source": [
    "# Converting target variable into int encoded {0,1} variable\n",
    "train_data[\"income\"] = train_data[\"income\"].astype(\"category\").cat.codes\n",
    "test_data[\"income\"] = test_data[\"income\"].astype(\"category\").cat.codes"
   ]
  },
  {
   "cell_type": "code",
   "execution_count": 12,
   "id": "2b6db2fc",
   "metadata": {},
   "outputs": [
    {
     "data": {
      "text/plain": [
       "age                  73\n",
       "workclass             8\n",
       "fnlwgt            21648\n",
       "education            16\n",
       "education-num        16\n",
       "marital-status        7\n",
       "occupation           14\n",
       "relationship          6\n",
       "race                  5\n",
       "sex                   2\n",
       "capital-gain        119\n",
       "capital-loss         92\n",
       "hours-per-week       94\n",
       "native-country       41\n",
       "income                2\n",
       "dtype: int64"
      ]
     },
     "execution_count": 12,
     "metadata": {},
     "output_type": "execute_result"
    }
   ],
   "source": [
    "train_data.nunique()"
   ]
  },
  {
   "cell_type": "code",
   "execution_count": 13,
   "id": "b52439f6",
   "metadata": {},
   "outputs": [],
   "source": [
    "def dataframe_to_tf_dataset(dataframe:pd.DataFrame, target_name: str):\n",
    "    dataframe = dataframe.copy()\n",
    "    labels = dataframe.pop(target_name)\n",
    "    ds = tf.data.Dataset.from_tensor_slices(\n",
    "        (dict(dataframe), labels)\n",
    "    )\n",
    "    return ds"
   ]
  },
  {
   "cell_type": "code",
   "execution_count": 14,
   "id": "5810ee4c",
   "metadata": {},
   "outputs": [
    {
     "name": "stderr",
     "output_type": "stream",
     "text": [
      "2021-11-20 15:39:54.488298: I tensorflow/core/platform/cpu_feature_guard.cc:151] This TensorFlow binary is optimized with oneAPI Deep Neural Network Library (oneDNN) to use the following CPU instructions in performance-critical operations:  AVX2 FMA\n",
      "To enable them in other operations, rebuild TensorFlow with the appropriate compiler flags.\n"
     ]
    }
   ],
   "source": [
    "train_ds = dataframe_to_tf_dataset(train_data, \"income\")\n",
    "test_ds = dataframe_to_tf_dataset(test_data, \"income\")"
   ]
  },
  {
   "cell_type": "code",
   "execution_count": 15,
   "id": "436f5b3b",
   "metadata": {},
   "outputs": [],
   "source": [
    "# splitting data into batches\n",
    "batch_size = 4_096\n",
    "\n",
    "train_ds = train_ds.shuffle(16_384, seed=1234).batch(batch_size).prefetch(1)\n",
    "test_ds = test_ds.batch(batch_size)"
   ]
  },
  {
   "cell_type": "code",
   "execution_count": 16,
   "id": "9d4d56c4",
   "metadata": {},
   "outputs": [
    {
     "name": "stdout",
     "output_type": "stream",
     "text": [
      "X: {'age': <tf.Tensor: shape=(), dtype=int64, numpy=22>, 'workclass': <tf.Tensor: shape=(), dtype=string, numpy=b'Private'>, 'fnlwgt': <tf.Tensor: shape=(), dtype=int64, numpy=100587>, 'education': <tf.Tensor: shape=(), dtype=string, numpy=b'Some-college'>, 'education-num': <tf.Tensor: shape=(), dtype=int64, numpy=10>, 'marital-status': <tf.Tensor: shape=(), dtype=string, numpy=b'Never-married'>, 'occupation': <tf.Tensor: shape=(), dtype=string, numpy=b'Other-service'>, 'relationship': <tf.Tensor: shape=(), dtype=string, numpy=b'Own-child'>, 'race': <tf.Tensor: shape=(), dtype=string, numpy=b'Black'>, 'sex': <tf.Tensor: shape=(), dtype=string, numpy=b'Female'>, 'capital-gain': <tf.Tensor: shape=(), dtype=int64, numpy=0>, 'capital-loss': <tf.Tensor: shape=(), dtype=int64, numpy=0>, 'hours-per-week': <tf.Tensor: shape=(), dtype=int64, numpy=15>, 'native-country': <tf.Tensor: shape=(), dtype=string, numpy=b'United-States'>}\n",
      "y: 0\n",
      "Age: 22\n"
     ]
    }
   ],
   "source": [
    "# The first TF record\n",
    "for x, y in train_ds.unbatch().take(1):\n",
    "    print(f\"X: {x}\")\n",
    "    print(f\"y: {y}\")\n",
    "    print(f\"Age: {x['age']}\")"
   ]
  },
  {
   "cell_type": "markdown",
   "id": "1873139f",
   "metadata": {},
   "source": [
    "## Building a Keras TabNet model\n",
    "We list all categorical variables. We distinguish categorical variables that are represented as strings from those represented as integers in our data. In adult census data, no categorical variables are represented using integers. All integer variables are assumed to be continuous variables. Continuous variables undergo no preprocessing because TabNet uses batch normalization to handle normalization. Categorical variables are embedded into an embedding space of dimension specified by user. If user does not specify a dimension, we assume the mebedding to have a dimension of 1.\n",
    "\n",
    "If you wish to perform any other form of data preprocessing, you can either do so using the [TF data API](https://www.tensorflow.org/api_docs/python/tf/data) or add as a Keras layer as shown below."
   ]
  },
  {
   "cell_type": "code",
   "execution_count": 17,
   "id": "a2ab84ea",
   "metadata": {},
   "outputs": [],
   "source": [
    "# all features sans the target\n",
    "feature_names.remove(\"income\")\n",
    "\n",
    "# list of categorical features represented as string\n",
    "cat_str_feature_names = list(train_data.select_dtypes(include=[\"object\"]).columns)\n",
    "\n",
    "# list of categorical features represented as int (note: none in this dataset)\n",
    "cat_int_feature_names = list()\n",
    "\n",
    "# dimension of the embedding layer for categorical variables\n",
    "cat_embed_dims = {\n",
    "    \"workclass\": 3, \n",
    "    \"education\": 5, \n",
    "    \"marital-status\": 3, \n",
    "    \"occupation\": 3, \n",
    "    \"relationship\": 3, \n",
    "    \"race\": 3, \n",
    "    \"sex\": 1, \n",
    "    \"native-country\": 5, \n",
    "}"
   ]
  },
  {
   "cell_type": "code",
   "execution_count": 18,
   "id": "950c27fe",
   "metadata": {},
   "outputs": [],
   "source": [
    "def create_keras_input_layer(feature_names, cat_str_feature_names, cat_int_feature_names):\n",
    "    model_inputs = list()\n",
    "    \n",
    "    for name in feature_names:\n",
    "        if name in cat_str_feature_names:\n",
    "            dtype = tf.string\n",
    "        elif name in cat_int_feature_names:\n",
    "            dtype = tf.int64\n",
    "        else:\n",
    "            dtype = tf.float32\n",
    "        \n",
    "        shape = (1,) if dtype==tf.float32 else ()\n",
    "        model_inputs.append(tf.keras.Input(shape=shape, name=name, dtype=dtype))\n",
    "    \n",
    "    return model_inputs"
   ]
  },
  {
   "cell_type": "code",
   "execution_count": 19,
   "id": "9b3a79e3",
   "metadata": {},
   "outputs": [],
   "source": [
    "def encode_categorical_feature(keras_input, feature_name, dataset, \n",
    "                               embed_dim, is_string):\n",
    "    feature_ds = dataset.map(lambda x, _: x[feature_name])\n",
    "    feature_ds = feature_ds.map(lambda x: tf.expand_dims(x, -1))\n",
    "\n",
    "    lookup_fn = tf.keras.layers.StringLookup if is_string else tf.keras.layers.IntegerLookup\n",
    "    lookup = lookup_fn(output_mode=\"int\")\n",
    "    lookup.adapt(feature_ds)\n",
    "    encoded_feature = lookup(keras_input)\n",
    "    embedded_feature = tf.keras.layers.Embedding(\n",
    "        input_dim=lookup.vocabulary_size(), \n",
    "        output_dim=embed_dim, \n",
    "    )(encoded_feature)\n",
    "\n",
    "    return embedded_feature\n",
    "\n",
    "\n",
    "def encode_features(keras_inputs, feature_names, \n",
    "                    cat_str_feature_names, cat_int_feature_names, cat_embed_dims, \n",
    "                    dataset):\n",
    "    encoded_features = list()\n",
    "\n",
    "    for keras_input, feature_name in zip(keras_inputs, feature_names):\n",
    "        if feature_name in cat_str_feature_names or feature_name in cat_int_feature_names:\n",
    "            # add embedding layer for all categorical features\n",
    "            embed_dim = cat_embed_dims[feature_name] if feature_name in cat_embed_dims.keys() else 1\n",
    "            encoded_features.append(\n",
    "                encode_categorical_feature(keras_input, feature_name, \n",
    "                                           dataset, \n",
    "                                           embed_dim, \n",
    "                                           feature_name in cat_str_feature_names)\n",
    "            )\n",
    "        else: \n",
    "            # no encoding for numerical features\n",
    "            encoded_features.append(keras_input)\n",
    "    \n",
    "    return encoded_features"
   ]
  },
  {
   "cell_type": "code",
   "execution_count": 20,
   "id": "273ffc70",
   "metadata": {},
   "outputs": [],
   "source": [
    "inputs = create_keras_input_layer(feature_names, cat_str_feature_names, cat_int_feature_names)\n",
    "encoded_features = encode_features(inputs, feature_names, \n",
    "                                   cat_str_feature_names, cat_int_feature_names, cat_embed_dims, \n",
    "                                   train_ds)\n",
    "all_features = tf.keras.layers.Concatenate()(encoded_features)"
   ]
  },
  {
   "cell_type": "code",
   "execution_count": null,
   "id": "f4414dfa",
   "metadata": {},
   "outputs": [],
   "source": [
    "# rest of the Keras model"
   ]
  }
 ],
 "metadata": {
  "kernelspec": {
   "display_name": "Python 3 (ipykernel)",
   "language": "python",
   "name": "python3"
  },
  "language_info": {
   "codemirror_mode": {
    "name": "ipython",
    "version": 3
   },
   "file_extension": ".py",
   "mimetype": "text/x-python",
   "name": "python",
   "nbconvert_exporter": "python",
   "pygments_lexer": "ipython3",
   "version": "3.9.6"
  }
 },
 "nbformat": 4,
 "nbformat_minor": 5
}
